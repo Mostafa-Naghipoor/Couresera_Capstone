{
    "cells": [
        {
            "cell_type": "markdown",
            "metadata": {
                "collapsed": true
            },
            "source": "\n# Capstone: Find the best neighborhood in Toronto to open a Restaurant Supply Store\n## 1. Load all the Data from all the various sources.\n### 1.1 Toronto neighborhoods broken down by postal code."
        },
        {
            "cell_type": "code",
            "execution_count": 1,
            "metadata": {},
            "outputs": [
                {
                    "data": {
                        "text/html": "<div>\n<style scoped>\n    .dataframe tbody tr th:only-of-type {\n        vertical-align: middle;\n    }\n\n    .dataframe tbody tr th {\n        vertical-align: top;\n    }\n\n    .dataframe thead th {\n        text-align: right;\n    }\n</style>\n<table border=\"1\" class=\"dataframe\">\n  <thead>\n    <tr style=\"text-align: right;\">\n      <th></th>\n      <th>PostalCode</th>\n      <th>Bourough</th>\n      <th>Neighborhood</th>\n    </tr>\n  </thead>\n  <tbody>\n    <tr>\n      <th>0</th>\n      <td>M1HScarborough(Cedarbrae)</td>\n      <td>M2HNorth York(Hillcrest Village)</td>\n      <td>M3HNorth York(Bathurst Manor / Wilson Heights ...</td>\n    </tr>\n    <tr>\n      <th>1</th>\n      <td>M1JScarborough(Scarborough Village)</td>\n      <td>M2JNorth York(Fairview / Henry Farm / Oriole)</td>\n      <td>M3JNorth York(Northwood Park / York University)</td>\n    </tr>\n    <tr>\n      <th>2</th>\n      <td>M1KScarborough(Kennedy Park / Ionview / East B...</td>\n      <td>M2KNorth York(Bayview Village)</td>\n      <td>M3KNorth York(Downsview)East (CFB Toronto)</td>\n    </tr>\n    <tr>\n      <th>3</th>\n      <td>M1LScarborough(Golden Mile / Clairlea / Oakridge)</td>\n      <td>M2LNorth York(York Mills / Silver Hills)</td>\n      <td>M3LNorth York(Downsview)West</td>\n    </tr>\n    <tr>\n      <th>4</th>\n      <td>M1MScarborough(Cliffside / Cliffcrest / Scarbo...</td>\n      <td>M2MNorth York(Willowdale / Newtonbrook)</td>\n      <td>M3MNorth York(Downsview)Central</td>\n    </tr>\n  </tbody>\n</table>\n</div>",
                        "text/plain": "                                          PostalCode  \\\n0                          M1HScarborough(Cedarbrae)   \n1                M1JScarborough(Scarborough Village)   \n2  M1KScarborough(Kennedy Park / Ionview / East B...   \n3  M1LScarborough(Golden Mile / Clairlea / Oakridge)   \n4  M1MScarborough(Cliffside / Cliffcrest / Scarbo...   \n\n                                        Bourough  \\\n0               M2HNorth York(Hillcrest Village)   \n1  M2JNorth York(Fairview / Henry Farm / Oriole)   \n2                 M2KNorth York(Bayview Village)   \n3       M2LNorth York(York Mills / Silver Hills)   \n4        M2MNorth York(Willowdale / Newtonbrook)   \n\n                                        Neighborhood  \n0  M3HNorth York(Bathurst Manor / Wilson Heights ...  \n1    M3JNorth York(Northwood Park / York University)  \n2         M3KNorth York(Downsview)East (CFB Toronto)  \n3                       M3LNorth York(Downsview)West  \n4                    M3MNorth York(Downsview)Central  "
                    },
                    "execution_count": 1,
                    "metadata": {},
                    "output_type": "execute_result"
                }
            ],
            "source": "# Load the required libraries\nimport numpy as np\nimport pandas as pd\nimport requests\nfrom bs4 import BeautifulSoup\n\n# Found the table using beautifulsoup and used Pandas to read it in. \nres = requests.get('https://en.wikipedia.org/wiki/List_of_postal_codes_of_Canada:_M')\nsoup = BeautifulSoup(res.content,'lxml')\ntable = soup.find_all('table')[0] \ndf = pd.read_html(str(table))\n\n\n# WRANGLE/Transform THE DATA\n# Convert the list back into a dataframe\ndata = pd.DataFrame(df[0])\n\n# Rename the columns as instructed\ndata = data.rename(columns={0:'PostalCode', 1:'Bourough', 2:'Neighborhood'})\n\n# Get rid of the first row which contained the table headers from the webpage\ndata = data.iloc[1:]\n\n\n# Only process the cells that have an assigned borough. Ignore cells with a borough that is Not assigned.\ndata = data[~data['Bourough'].str.contains('Not assigned')]\n\n\n# More than one neighborhood can exist in one postal code area. \n#For example, in the table on the Wikipedia page, you will notice \n#that M5A is listed twice and has two neighborhoods: Harbourfront \n#and Regent Park. These two rows will be combined into one row with \n#the neighborhoods separated with a comma\ndf2=data.groupby(['PostalCode', 'Bourough']).apply(lambda group: ', '.join(group['Neighborhood']))\n\n\n# Convert the Series back into a DataFrame and put the 'Neighbourhood' column label back in\ndf2=df2.to_frame().reset_index()\ndf2 = df2.rename(columns={0:'Neighborhood'})\n\n# If a cell has a borough but a Not assigned neighborhood, then the neighborhood will be the same as the borough.\ndf2.loc[df2.Neighborhood == 'Not assigned', 'Neighborhood' ] = df2.Bourough\n\n# Display the DataFrame\ndf2.head()"
        },
        {
            "cell_type": "markdown",
            "metadata": {},
            "source": "\n### 1.1.1 Load Toronto geospatial cooridinates and merge to Toronto Postal Code Data"
        },
        {
            "cell_type": "code",
            "execution_count": 2,
            "metadata": {},
            "outputs": [
                {
                    "name": "stdout",
                    "output_type": "stream",
                    "text": "--2021-09-19 07:56:56--  http://cocl.us/Geospatial_data\nResolving cocl.us (cocl.us)... 150.239.80.14, 150.239.82.224\nConnecting to cocl.us (cocl.us)|150.239.80.14|:80... connected.\nHTTP request sent, awaiting response... 308 Permanent Redirect\nLocation: https://cocl.us/Geospatial_data [following]\n--2021-09-19 07:56:56--  https://cocl.us/Geospatial_data\nConnecting to cocl.us (cocl.us)|150.239.80.14|:443... connected.\nHTTP request sent, awaiting response... 301 Moved Permanently\nLocation: https://ibm.box.com/shared/static/9afzr83pps4pwf2smjjcf1y5mvgb18rr.csv [following]\n--2021-09-19 07:56:57--  https://ibm.box.com/shared/static/9afzr83pps4pwf2smjjcf1y5mvgb18rr.csv\nResolving ibm.box.com (ibm.box.com)... 107.152.29.197\nConnecting to ibm.box.com (ibm.box.com)|107.152.29.197|:443... connected.\nHTTP request sent, awaiting response... 301 Moved Permanently\nLocation: /public/static/9afzr83pps4pwf2smjjcf1y5mvgb18rr.csv [following]\n--2021-09-19 07:56:57--  https://ibm.box.com/public/static/9afzr83pps4pwf2smjjcf1y5mvgb18rr.csv\nReusing existing connection to ibm.box.com:443.\nHTTP request sent, awaiting response... 301 Moved Permanently\nLocation: https://ibm.ent.box.com/public/static/9afzr83pps4pwf2smjjcf1y5mvgb18rr.csv [following]\n--2021-09-19 07:56:58--  https://ibm.ent.box.com/public/static/9afzr83pps4pwf2smjjcf1y5mvgb18rr.csv\nResolving ibm.ent.box.com (ibm.ent.box.com)... 107.152.29.201\nConnecting to ibm.ent.box.com (ibm.ent.box.com)|107.152.29.201|:443... connected.\nHTTP request sent, awaiting response... 302 Found\nLocation: https://public.boxcloud.com/d/1/b1!p2UbhX8c4xOqrcruGbuKM2vZ8x4hnPjol3FGJv964HlDFeYBr_cBZz_sToU1hGQGQdxsS7OqpSaWRbytt4Y3c18aYNjIWWvv2fR6imu11dVlmB6VG9uo69hHP0bDYtW7AQvfkOvxJ2RhGViNriuyB5GcXoit2Kat_GflkuBuqXZQ0nzonZoRLLw_Crr-V1e98nx33mEJHu2F_Vwpr2t8oPrWjRbTqWKu8WNLFWR-7ky-FVgdRDv20BgcA0YmyBYddtaa1Ocn6DcBA-pwXT-QKNDiicur8LRsvihC1RJnDWfKxYUFKfwLOEhJDEHuJDXbzYF_7bnoJBn4MNRTkcsJQCV2EeWQZAPCsZSRyZW8f9mZ6ebiAcUtsTc-pmiQHp16ZZHbpv0D-1MrJNWy43DackSx8Ym7fq6h_hbb1vEtait0aJoC2s6QzWFnRutdsrlcXI0dfkUaP4YgRIwc1g58sWuBvkUtGxXGXJiBV43xEQa2vQE0P78d0s4hT5MtVZLWLpG50oO0tQV8ijSH_XgRV2M8_mcEo2WfVR_GScPT3udrQNdF_7SGWyEw27V246v1L9qnT6Hk1GU8vpPSanb8S8TPgL8wd2lUEpdjjWWQF4fUb7oj4WuGcS0dCw6B1WqieVN0SMmetb7fUsA5ydvGM50WeUvpaLUs6xdgs4HnBLO1vzH-b-MuYkWTcbK3Urn3G31X5ien_BodNwSxGfmNqbAMyQsZ43G1_Ep8220ufaTICKfp1zRVow0svenLQCFq_LmTCj-Izelai7ZRXOnjt7MyKcnuvAo8ghD5Em3mkeCW4cVa2HS8TAIfW1S74UrzRx9OEm-zLNSGq5ClkraovladjUFnb_cncYRoWKDoWYNBaTqT71X7_n95zIwuoyjVxdNOim9m9CSgY0GK6V_aHnCeoekYcf-t7md4YDdm3w5_bdOwYVW5cbghhLi-eYSnc9cGd6krp7jYZV8Fh6U3Vd6lbvFK2Am0CesmL0LwSqMex3UnX699E5vVqBEpMQ2EfWmUgYeC58tjLv-ZoJ6NTHaXJt7Vgkf4Xb-h6ndtG5hR40pY4DzCRemSbd1oEwQr72mC_oyMPdgHoskb3IlVhwYcxEu92qJMc7t3AK6nX7E4a26mV7rhNLQch0ywkryYo_Lcz8APAMs8arB98Z0n1z0-dJ-5VDWGWPXBsPqls2DyujgYJI-t1wnyjaX4TWwbfOg8oTefybIb1JqsFEp7fReyrPjwFaylSNvjfmBEp0nt8kQyLFDmPSbGc1I7H-xsKI-gv_8Hj1v_g890HQCqUue5cn2NKhIBTsTN5kBWNaqeIEXkkWpULZkhOko7bLzXoWTT5buNteP4R070FzamXp27MFy6L4LiKFiCbZE7uUtc5TW1-zSUDGrDM3VdDVV1fpkzN6ICl02Exg6pNBbDifki3LczsvFSwtSkoSaqjAUgr800fxTGf3t_I_57xj1r070PSuikM9H9O4jI/download [following]\n--2021-09-19 07:56:59--  https://public.boxcloud.com/d/1/b1!p2UbhX8c4xOqrcruGbuKM2vZ8x4hnPjol3FGJv964HlDFeYBr_cBZz_sToU1hGQGQdxsS7OqpSaWRbytt4Y3c18aYNjIWWvv2fR6imu11dVlmB6VG9uo69hHP0bDYtW7AQvfkOvxJ2RhGViNriuyB5GcXoit2Kat_GflkuBuqXZQ0nzonZoRLLw_Crr-V1e98nx33mEJHu2F_Vwpr2t8oPrWjRbTqWKu8WNLFWR-7ky-FVgdRDv20BgcA0YmyBYddtaa1Ocn6DcBA-pwXT-QKNDiicur8LRsvihC1RJnDWfKxYUFKfwLOEhJDEHuJDXbzYF_7bnoJBn4MNRTkcsJQCV2EeWQZAPCsZSRyZW8f9mZ6ebiAcUtsTc-pmiQHp16ZZHbpv0D-1MrJNWy43DackSx8Ym7fq6h_hbb1vEtait0aJoC2s6QzWFnRutdsrlcXI0dfkUaP4YgRIwc1g58sWuBvkUtGxXGXJiBV43xEQa2vQE0P78d0s4hT5MtVZLWLpG50oO0tQV8ijSH_XgRV2M8_mcEo2WfVR_GScPT3udrQNdF_7SGWyEw27V246v1L9qnT6Hk1GU8vpPSanb8S8TPgL8wd2lUEpdjjWWQF4fUb7oj4WuGcS0dCw6B1WqieVN0SMmetb7fUsA5ydvGM50WeUvpaLUs6xdgs4HnBLO1vzH-b-MuYkWTcbK3Urn3G31X5ien_BodNwSxGfmNqbAMyQsZ43G1_Ep8220ufaTICKfp1zRVow0svenLQCFq_LmTCj-Izelai7ZRXOnjt7MyKcnuvAo8ghD5Em3mkeCW4cVa2HS8TAIfW1S74UrzRx9OEm-zLNSGq5ClkraovladjUFnb_cncYRoWKDoWYNBaTqT71X7_n95zIwuoyjVxdNOim9m9CSgY0GK6V_aHnCeoekYcf-t7md4YDdm3w5_bdOwYVW5cbghhLi-eYSnc9cGd6krp7jYZV8Fh6U3Vd6lbvFK2Am0CesmL0LwSqMex3UnX699E5vVqBEpMQ2EfWmUgYeC58tjLv-ZoJ6NTHaXJt7Vgkf4Xb-h6ndtG5hR40pY4DzCRemSbd1oEwQr72mC_oyMPdgHoskb3IlVhwYcxEu92qJMc7t3AK6nX7E4a26mV7rhNLQch0ywkryYo_Lcz8APAMs8arB98Z0n1z0-dJ-5VDWGWPXBsPqls2DyujgYJI-t1wnyjaX4TWwbfOg8oTefybIb1JqsFEp7fReyrPjwFaylSNvjfmBEp0nt8kQyLFDmPSbGc1I7H-xsKI-gv_8Hj1v_g890HQCqUue5cn2NKhIBTsTN5kBWNaqeIEXkkWpULZkhOko7bLzXoWTT5buNteP4R070FzamXp27MFy6L4LiKFiCbZE7uUtc5TW1-zSUDGrDM3VdDVV1fpkzN6ICl02Exg6pNBbDifki3LczsvFSwtSkoSaqjAUgr800fxTGf3t_I_57xj1r070PSuikM9H9O4jI/download\nResolving public.boxcloud.com (public.boxcloud.com)... 107.152.29.200\nConnecting to public.boxcloud.com (public.boxcloud.com)|107.152.29.200|:443... connected.\nHTTP request sent, awaiting response... 200 OK\nLength: 2891 (2.8K) [text/csv]\nSaving to: \u2018to_geo_space.csv\u2019\n\nto_geo_space.csv    100%[===================>]   2.82K  --.-KB/s    in 0s      \n\n2021-09-19 07:56:59 (57.3 MB/s) - \u2018to_geo_space.csv\u2019 saved [2891/2891]\n\n"
                },
                {
                    "data": {
                        "text/html": "<div>\n<style scoped>\n    .dataframe tbody tr th:only-of-type {\n        vertical-align: middle;\n    }\n\n    .dataframe tbody tr th {\n        vertical-align: top;\n    }\n\n    .dataframe thead th {\n        text-align: right;\n    }\n</style>\n<table border=\"1\" class=\"dataframe\">\n  <thead>\n    <tr style=\"text-align: right;\">\n      <th></th>\n      <th>PostalCode</th>\n      <th>Bourough</th>\n      <th>Neighborhood</th>\n      <th>Latitude</th>\n      <th>Longitude</th>\n    </tr>\n  </thead>\n  <tbody>\n  </tbody>\n</table>\n</div>",
                        "text/plain": "Empty DataFrame\nColumns: [PostalCode, Bourough, Neighborhood, Latitude, Longitude]\nIndex: []"
                    },
                    "execution_count": 2,
                    "metadata": {},
                    "output_type": "execute_result"
                }
            ],
            "source": "# Load Toronto geospatial cooridinates\n!wget -O to_geo_space.csv http://cocl.us/Geospatial_data\n\n#Read into dataframe\ngf = pd.read_csv('to_geo_space.csv')\n\n#rename the coloumns so the match\ngf = gf.rename(columns={'Postal Code':'PostalCode'})\n\n#Merge the Toronto data with geo cooridinate data\ngf_new = pd.merge(df2, gf, on='PostalCode', how='inner')\n\n# display the new dataframe\ngf_new.head()"
        },
        {
            "cell_type": "code",
            "execution_count": 3,
            "metadata": {},
            "outputs": [
                {
                    "data": {
                        "text/html": "<div>\n<style scoped>\n    .dataframe tbody tr th:only-of-type {\n        vertical-align: middle;\n    }\n\n    .dataframe tbody tr th {\n        vertical-align: top;\n    }\n\n    .dataframe thead th {\n        text-align: right;\n    }\n</style>\n<table border=\"1\" class=\"dataframe\">\n  <thead>\n    <tr style=\"text-align: right;\">\n      <th></th>\n      <th>PostalCode</th>\n      <th>Population_2016</th>\n    </tr>\n  </thead>\n  <tbody>\n    <tr>\n      <th>1</th>\n      <td>A0A</td>\n      <td>46587.0</td>\n    </tr>\n    <tr>\n      <th>2</th>\n      <td>A0B</td>\n      <td>19792.0</td>\n    </tr>\n    <tr>\n      <th>3</th>\n      <td>A0C</td>\n      <td>12587.0</td>\n    </tr>\n    <tr>\n      <th>4</th>\n      <td>A0E</td>\n      <td>22294.0</td>\n    </tr>\n    <tr>\n      <th>5</th>\n      <td>A0G</td>\n      <td>35266.0</td>\n    </tr>\n  </tbody>\n</table>\n</div>",
                        "text/plain": "  PostalCode  Population_2016\n1        A0A          46587.0\n2        A0B          19792.0\n3        A0C          12587.0\n4        A0E          22294.0\n5        A0G          35266.0"
                    },
                    "execution_count": 3,
                    "metadata": {},
                    "output_type": "execute_result"
                }
            ],
            "source": "# Load this data from Stats Canada\ndf_pop = pd.read_csv('https://www12.statcan.gc.ca/census-recensement/2016/dp-pd/hlt-fst/pd-pl/Tables/File.cfm?T=1201&SR=1&RPP=9999&PR=0&CMA=0&CSD=0&S=22&O=A&Lang=Eng&OFT=CSV',encoding = 'unicode_escape')\n# Rename the columns appropiatley\ndf_pop = df_pop.rename(columns={'Geographic code':'PostalCode', 'Geographic name':'PostalCod2', 'Province or territory':'Province', 'Incompletely enumerated Indian reserves and Indian settlements, 2016':'Incomplete', 'Population, 2016':'Population_2016', 'Total private dwellings, 2016':'TotalPrivDwellings', 'Private dwellings occupied by usual residents, 2016':'PrivDwellingsOccupied'})\ndf_pop= df_pop.drop(columns=['PostalCod2', 'Province', 'Incomplete', 'TotalPrivDwellings', 'PrivDwellingsOccupied'])\n\n# Get rid of the first row \ndf_pop = df_pop.iloc[1:]\ndf_pop.head()"
        },
        {
            "cell_type": "markdown",
            "metadata": {},
            "source": "### 1.2.1 Merge Toronto Neighbourhood populations data with Toronto Postal Code data \n"
        },
        {
            "cell_type": "code",
            "execution_count": 4,
            "metadata": {},
            "outputs": [
                {
                    "data": {
                        "text/html": "<div>\n<style scoped>\n    .dataframe tbody tr th:only-of-type {\n        vertical-align: middle;\n    }\n\n    .dataframe tbody tr th {\n        vertical-align: top;\n    }\n\n    .dataframe thead th {\n        text-align: right;\n    }\n</style>\n<table border=\"1\" class=\"dataframe\">\n  <thead>\n    <tr style=\"text-align: right;\">\n      <th></th>\n      <th>PostalCode</th>\n      <th>Population_2016</th>\n      <th>Bourough</th>\n      <th>Neighborhood</th>\n      <th>Latitude</th>\n      <th>Longitude</th>\n    </tr>\n  </thead>\n  <tbody>\n  </tbody>\n</table>\n</div>",
                        "text/plain": "Empty DataFrame\nColumns: [PostalCode, Population_2016, Bourough, Neighborhood, Latitude, Longitude]\nIndex: []"
                    },
                    "execution_count": 4,
                    "metadata": {},
                    "output_type": "execute_result"
                }
            ],
            "source": "#Merge the Toronto Pop data with geo postalcode data\ngf_new\ngf_new = pd.merge(df_pop, gf_new, on='PostalCode', how='right')\n# sort on population\ngf_new = gf_new.sort_values(by=['Population_2016'], ascending=False)\n\n# display the new dataframe\ngf_new.head()"
        },
        {
            "cell_type": "markdown",
            "metadata": {},
            "source": "#### Key Observation here is a list of Toronto Neighborhoods Populations"
        },
        {
            "cell_type": "markdown",
            "metadata": {},
            "source": "### 1.3 Toronto neighborhoods average after tax income broken down by postal code"
        }
    ],
    "metadata": {
        "kernelspec": {
            "display_name": "Python 3.8",
            "language": "python",
            "name": "python3"
        },
        "language_info": {
            "codemirror_mode": {
                "name": "ipython",
                "version": 3
            },
            "file_extension": ".py",
            "mimetype": "text/x-python",
            "name": "python",
            "nbconvert_exporter": "python",
            "pygments_lexer": "ipython3",
            "version": "3.8.11"
        }
    },
    "nbformat": 4,
    "nbformat_minor": 1
}