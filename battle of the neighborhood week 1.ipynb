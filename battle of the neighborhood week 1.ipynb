{
    "cells": [
        {
            "cell_type": "markdown",
            "metadata": {
                "collapsed": true
            },
            "source": "Table of contents\nIntroduction: Business Problem\nData\nMethodology\nResults and Discussion\nConclusion\nIntroduction: Business Problem\nSince the beginning of 2020, Tehran and many other cities around the world have been under attack by an invisible army called \u2018New Corona Virus\u2019, also known as \u2018Covid-19\u2019. Every effort has been focusing on solving or minimizing problems, including Data Scientists. Data Scientists assessed the situations in places around the world, such as availability, amount, and geographical distribution (i.e. locations) of health infrastructures, such as virus testing centers and authorized hospitals to treat affected patients. In this article, we would like to present a simple analysis for determining strategic locations for the distribution of masks and medical devices for COVID-19 treatment, based on confirmed cases on May 28, 2020, and the red zone areas for \u201cnew normal\u201d condition analysis.\nData\nA few Identified factors that influence our decision are:\nCovid-19 cases per district \u201cRiwayat File Covid-19 DKI Tehran\u201d\nTotal population in DKI Tehran 2020 statistik.Tehran.go.id\n10 most population in DKI Tehran 2020 per district statistik.tehran.go.id\nHospital for treatment covid-19 megapolitan.kompas.com\nThe following data sources are needed to extract/generate the required information:\nProcessed covid-19 positive case data collection on 28 May 2020 At 09.00.\nThe distribution of mask sales based on the population in the DKI Tehran area.\nThe distribution of mask sales based on 5 districts with the most densely populated populations.\nNew datasets (to be created) from Hospital table that contains city, district, along with their latitudes and longitudes.\n\n\n"
        }
    ],
    "metadata": {
        "kernelspec": {
            "display_name": "Python 3.8",
            "language": "python",
            "name": "python3"
        },
        "language_info": {
            "codemirror_mode": {
                "name": "ipython",
                "version": 3
            },
            "file_extension": ".py",
            "mimetype": "text/x-python",
            "name": "python",
            "nbconvert_exporter": "python",
            "pygments_lexer": "ipython3",
            "version": "3.8.11"
        }
    },
    "nbformat": 4,
    "nbformat_minor": 1
}